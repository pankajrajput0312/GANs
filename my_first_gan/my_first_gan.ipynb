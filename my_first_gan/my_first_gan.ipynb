{
 "cells": [
  {
   "cell_type": "code",
   "execution_count": 5,
   "metadata": {},
   "outputs": [],
   "source": [
    "import torch\n",
    "from torch import nn \n",
    "from torchvision import transforms\n",
    "from torchvision.datasets import MNIST\n",
    "from torch.utils.data import DataLoader"
   ]
  },
  {
   "cell_type": "code",
   "execution_count": 6,
   "metadata": {},
   "outputs": [],
   "source": [
    "import cv2\n",
    "import os\n",
    "import matplotlib.pyplot as plt\n",
    "import numpy as np"
   ]
  },
  {
   "cell_type": "code",
   "execution_count": 8,
   "metadata": {},
   "outputs": [],
   "source": [
    "class Generator(nn.Module):\n",
    "    def __init__(self,z_dim, hidden_dims, output_dim):\n",
    "        self.gen = nn.Sequential(\n",
    "            nn.linear(z_dim,hidden_dims),\n",
    "            nn.linear(hidden_dims, hidden_dims*2),\n",
    "            nn.linear(hidden_dims*2, hidden_dims*4),\n",
    "            nn.linear(hidden_dims*4, output_dims)\n",
    "        )\n",
    "    def forward(self, noise):\n",
    "        return self.gen(noise)\n",
    "    \n",
    "    def get_gen(self):\n",
    "        return self.gen"
   ]
  },
  {
   "cell_type": "code",
   "execution_count": 9,
   "metadata": {},
   "outputs": [],
   "source": [
    "class Degeneraor(nn.Module):\n",
    "    def __init__(self, input_dims, hidden_dims):\n",
    "        self.degen = nn.Sequential(\n",
    "            nn.linear(input_dims, hidden_dims*4),\n",
    "            nn.linear(hidden_dims*4, hidden_dims*2),\n",
    "            nn.linear(hidden_dims*2 , hidden_dims),\n",
    "            nn.linear(hidden_dims, 1)\n",
    "        )\n",
    "    def forward(self, img):\n",
    "        return self.degen(img)\n",
    "    def  get_gen(self):\n",
    "        return self.degen"
   ]
  },
  {
   "cell_type": "code",
   "execution_count": null,
   "metadata": {},
   "outputs": [],
   "source": [
    "\n"
   ]
  },
  {
   "cell_type": "code",
   "execution_count": 10,
   "metadata": {},
   "outputs": [
    {
     "name": "stdout",
     "output_type": "stream",
     "text": [
      "b'{\"error\":{\"code\":\"401\",\"message\":\"Access denied due to invalid subscription key or wrong API endpoint. Make sure to provide a valid key for an active subscription and use a correct regional API endpoint for your resource.\"}}'\n"
     ]
    }
   ],
   "source": [
    "import http.client, urllib.request, urllib.parse, urllib.error, base64\n",
    "\n",
    "headers = {\n",
    "    # Request headers\n",
    "    'Content-Type': 'application/octet-stream',\n",
    "    'Prediction-key': 'bf595a2cb1854d988a1f9d26834cd4e2',\n",
    "}\n",
    "\n",
    "params = urllib.parse.urlencode({\n",
    "    # Request parameters\n",
    "    'application': '{string}',\n",
    "})\n",
    "\n",
    "try:\n",
    "    conn = http.client.HTTPSConnection('centralindia.api.cognitive.microsoft.com')\n",
    "    conn.request(\"POST\", \"/customvision/v3.0/Prediction/509d8ea4-7ad4-401f-89db-56520f105fdb/detect/iterations/vegetable_detection/image?%s\" % params, \"{body}\", headers)\n",
    "    response = conn.getresponse()\n",
    "    data = response.read()\n",
    "    print(data)\n",
    "    conn.close()\n",
    "except Exception as e:\n",
    "    print(\"[Errno {0}] {1}\".format(e.errno, e.strerror))"
   ]
  },
  {
   "cell_type": "code",
   "execution_count": null,
   "metadata": {},
   "outputs": [],
   "source": []
  },
  {
   "cell_type": "code",
   "execution_count": null,
   "metadata": {},
   "outputs": [],
   "source": [
    "https://pankaj.cognitiveservices.azure.com/customvision/v3.0/Prediction/509d8ea4-7ad4-401f-89db-56520f105fdb/detect/iterations/Iteration1/image"
   ]
  },
  {
   "cell_type": "code",
   "execution_count": null,
   "metadata": {},
   "outputs": [],
   "source": [
    "https://{endpoint}/customvision/v3.0/Prediction/{projectId}/classify/iterations/{publishedName}/image[?application]"
   ]
  }
 ],
 "metadata": {
  "kernelspec": {
   "display_name": "Python 3",
   "language": "python",
   "name": "python3"
  },
  "language_info": {
   "codemirror_mode": {
    "name": "ipython",
    "version": 3
   },
   "file_extension": ".py",
   "mimetype": "text/x-python",
   "name": "python",
   "nbconvert_exporter": "python",
   "pygments_lexer": "ipython3",
   "version": "3.7.9"
  }
 },
 "nbformat": 4,
 "nbformat_minor": 4
}
